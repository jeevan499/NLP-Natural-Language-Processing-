{
 "cells": [
  {
   "cell_type": "code",
   "execution_count": 5,
   "id": "6b158653",
   "metadata": {},
   "outputs": [],
   "source": [
    "import nltk\n",
    "import re\n",
    "from nltk.stem import PorterStemmer\n",
    "from nltk.stem import WordNetLemmatizer\n",
    "from nltk.corpus import stopwords\n",
    "from gensim.models import Word2Vec"
   ]
  },
  {
   "cell_type": "code",
   "execution_count": 3,
   "id": "8f3653d5",
   "metadata": {},
   "outputs": [],
   "source": [
    "paragraph = \"\"\"I have three visions for India. In 3000 years of our history, people from all over \n",
    "               the world have come and invaded us, captured our lands, conquered our minds. \n",
    "               From Alexander onwards, the Greeks, the Turks, the Moguls, the Portuguese, the British,\n",
    "               the French, the Dutch, all of them came and looted us, took over what was ours. \n",
    "               Yet we have not done this to any other nation. We have not conquered anyone. \n",
    "               We have not grabbed their land, their culture, \n",
    "               their history and tried to enforce our way of life on them. \n",
    "               Why? Because we respect the freedom of others.That is why my \n",
    "               first vision is that of freedom. I believe that India got its first vision of \n",
    "               this in 1857, when we started the War of Independence. It is this freedom that\n",
    "               we must protect and nurture and build on. If we are not free, no one will respect us.\n",
    "               My second vision for India’s development. For fifty years we have been a developing nation.\n",
    "               It is time we see ourselves as a developed nation. We are among the top 5 nations of the world\n",
    "               in terms of GDP. We have a 10 percent growth rate in most areas. Our poverty levels are falling.\n",
    "               Our achievements are being globally recognised today. Yet we lack the self-confidence to\n",
    "               see ourselves as a developed nation, self-reliant and self-assured. Isn’t this incorrect?\n",
    "               I have a third vision. India must stand up to the world. Because I believe that unless India \n",
    "               stands up to the world, no one will respect us. Only strength respects strength. We must be \n",
    "               strong not only as a military power but also as an economic power. Both must go hand-in-hand. \n",
    "               My good fortune was to have worked with three great minds. Dr. Vikram Sarabhai of the Dept. of \n",
    "               space, Professor Satish Dhawan, who succeeded him and Dr. Brahm Prakash, father of nuclear material.\n",
    "               I was lucky to have worked with all three of them closely and consider this the great opportunity of my life. \n",
    "               I see four milestones in my career\"\"\""
   ]
  },
  {
   "cell_type": "code",
   "execution_count": 20,
   "id": "82c3f3a4",
   "metadata": {},
   "outputs": [],
   "source": [
    "# Preprocessing the data\n",
    "\n",
    "sentence=nltk.sent_tokenize(paragraph)\n",
    "se=PorterStemmer()\n",
    "le=WordNetLemmatizer()"
   ]
  },
  {
   "cell_type": "code",
   "execution_count": 33,
   "id": "7ac23c6a",
   "metadata": {},
   "outputs": [
    {
     "name": "stdout",
     "output_type": "stream",
     "text": [
      "[['three', 'vision', 'india.'], ['3000', 'year', 'history,', 'peopl', 'world', 'come', 'invad', 'us,', 'captur', 'lands,', 'conquer', 'minds.'], ['alexand', 'onwards,', 'greeks,', 'turks,', 'moguls,', 'portuguese,', 'british,', 'french,', 'dutch,', 'came', 'loot', 'us,', 'took', 'ours.'], ['yet', 'done', 'nation.'], ['conquer', 'anyone.'], ['grab', 'land,', 'culture,', 'histori', 'tri', 'enforc', 'way', 'life', 'them.'], ['why?'], ['respect', 'freedom', 'others.that', 'first', 'vision', 'freedom.'], ['believ', 'india', 'got', 'first', 'vision', '1857,', 'start', 'war', 'independence.'], ['freedom', 'must', 'protect', 'nurtur', 'build', 'on.'], ['free,', 'one', 'respect', 'us.'], ['second', 'vision', 'india’', 'development.'], ['fifti', 'year', 'develop', 'nation.'], ['time', 'see', 'develop', 'nation.'], ['among', 'top', '5', 'nation', 'world', 'term', 'gdp.'], ['10', 'percent', 'growth', 'rate', 'areas.'], ['poverti', 'level', 'falling.'], ['achiev', 'global', 'recogni', 'today.'], ['yet', 'lack', 'self-confid', 'see', 'develop', 'nation,', 'self-r', 'self-assured.'], ['isn’t', 'incorrect?'], ['third', 'vision.'], ['india', 'must', 'stand', 'world.'], ['believ', 'unless', 'india', 'stand', 'world,', 'one', 'respect', 'us.'], ['strength', 'respect', 'strength.'], ['must', 'strong', 'militari', 'power', 'also', 'econom', 'power.'], ['must', 'go', 'hand-in-hand.'], ['good', 'fortun', 'work', 'three', 'great', 'minds.'], ['dr.', 'vikram', 'sarabhai', 'dept.'], ['space,', 'professor', 'satish', 'dhawan,', 'succeed', 'dr.', 'brahm', 'prakash,', 'father', 'nuclear', 'material.'], ['lucki', 'work', 'three', 'close', 'consid', 'great', 'opportun', 'life.'], ['see', 'four', 'mileston', 'career']]\n"
     ]
    }
   ],
   "source": [
    "for i in range(len(sentence)):\n",
    "    words=re.sub('^a-zA-Z',' ',sentence[i])\n",
    "    words=words.lower()\n",
    "    words=words.split()\n",
    "    words=[se.stem(word)  for word in words if word not in set(stopwords.words('english'))]\n",
    "    sentence[i]=words\n",
    "print(sentence)"
   ]
  },
  {
   "cell_type": "code",
   "execution_count": 38,
   "id": "0f6b30ce",
   "metadata": {},
   "outputs": [],
   "source": [
    "# Training the datset\n",
    "\n",
    "model=Word2Vec(sentence,min_count=1)"
   ]
  },
  {
   "cell_type": "code",
   "execution_count": 48,
   "id": "ff3a471e",
   "metadata": {},
   "outputs": [
    {
     "data": {
      "text/plain": [
       "array([ 8.3605545e-03, -5.6954479e-04, -9.4411019e-03,  4.7836527e-03,\n",
       "       -6.0479920e-03,  6.6669742e-03,  5.3765462e-03, -5.0358563e-03,\n",
       "        2.5691506e-03,  5.4132123e-03, -3.5854755e-03, -1.5295199e-03,\n",
       "        9.1696903e-03,  9.0730460e-03, -9.3833404e-03,  7.5754700e-03,\n",
       "        9.8829400e-03, -2.8459844e-03,  2.4719571e-03, -2.8081869e-03,\n",
       "        8.6535262e-03, -2.7900058e-04,  5.6281984e-03,  9.2155458e-03,\n",
       "        4.1160104e-03, -7.1218922e-03, -1.9354029e-03,  9.8455430e-04,\n",
       "        2.0363035e-03,  2.9503847e-03,  9.4540324e-03,  4.4004493e-03,\n",
       "        9.9231927e-03, -8.6529609e-03, -5.7523940e-03,  1.9995891e-03,\n",
       "        3.6658382e-03, -9.9070836e-04, -6.9174748e-03, -3.2080915e-03,\n",
       "       -8.5248854e-03,  9.4041582e-03,  3.7238521e-03, -7.8777708e-03,\n",
       "        3.1830154e-03,  4.1735806e-03, -5.6457012e-03, -5.9090727e-03,\n",
       "        1.0322573e-03,  8.9640254e-03, -9.6469810e-03, -3.6138376e-06,\n",
       "       -6.8618148e-03, -9.2833088e-04,  3.0469373e-03, -5.0223563e-03,\n",
       "       -2.7771010e-03,  6.7417673e-04, -6.3657733e-03,  7.2911563e-03,\n",
       "        4.3748170e-03, -8.5596452e-03, -2.1493456e-03,  3.1728528e-03,\n",
       "       -8.3257975e-03, -7.0614903e-03, -8.4462836e-03, -5.4926332e-03,\n",
       "        8.8515943e-03,  7.0861289e-03,  2.8776668e-03, -8.5516451e-03,\n",
       "        5.7480317e-03,  4.6226876e-03,  1.2563517e-04, -8.8421991e-03,\n",
       "       -1.8887772e-03,  1.8736553e-04, -7.7593555e-03,  2.4722302e-03,\n",
       "        4.8289623e-04, -7.0589720e-03, -8.2810707e-03,  6.0550808e-03,\n",
       "       -8.3523411e-03, -5.5722143e-03,  5.5807279e-03, -4.8148932e-04,\n",
       "       -3.0464178e-03, -5.1895054e-03, -1.1960119e-03,  5.2728043e-03,\n",
       "       -5.9581418e-03, -4.9810070e-03, -4.9489206e-03, -4.7574639e-03,\n",
       "       -7.9757422e-03, -9.7556207e-03,  7.5928797e-03,  7.9923244e-03],\n",
       "      dtype=float32)"
      ]
     },
     "execution_count": 48,
     "metadata": {},
     "output_type": "execute_result"
    }
   ],
   "source": [
    "vector=model.wv['war']\n",
    "vector"
   ]
  },
  {
   "cell_type": "code",
   "execution_count": 50,
   "id": "3a828db5",
   "metadata": {},
   "outputs": [
    {
     "data": {
      "text/plain": [
       "[('india', 0.30432260036468506),\n",
       " ('material.', 0.2214735895395279),\n",
       " ('vision', 0.19572825729846954),\n",
       " ('alexand', 0.19469645619392395),\n",
       " ('believ', 0.18899478018283844),\n",
       " ('poverti', 0.18371854722499847),\n",
       " ('others.that', 0.16683799028396606),\n",
       " ('3000', 0.16308562457561493),\n",
       " ('captur', 0.1621367633342743),\n",
       " ('anyone.', 0.14293088018894196)]"
      ]
     },
     "execution_count": 50,
     "metadata": {},
     "output_type": "execute_result"
    }
   ],
   "source": [
    "similar=model.wv.most_similar('war')\n",
    "similar"
   ]
  },
  {
   "cell_type": "code",
   "execution_count": null,
   "id": "ff4877f8",
   "metadata": {},
   "outputs": [],
   "source": []
  }
 ],
 "metadata": {
  "kernelspec": {
   "display_name": "Python 3 (ipykernel)",
   "language": "python",
   "name": "python3"
  },
  "language_info": {
   "codemirror_mode": {
    "name": "ipython",
    "version": 3
   },
   "file_extension": ".py",
   "mimetype": "text/x-python",
   "name": "python",
   "nbconvert_exporter": "python",
   "pygments_lexer": "ipython3",
   "version": "3.9.7"
  }
 },
 "nbformat": 4,
 "nbformat_minor": 5
}
